{
 "cells": [
  {
   "cell_type": "code",
   "execution_count": 10,
   "metadata": {},
   "outputs": [
    {
     "name": "stdout",
     "output_type": "stream",
     "text": [
      "[1, 0, 0, 0, 0, 0, 0, 0, 0, 0, 0]\n",
      "[1, 1, 0, 0, 0, 0, 0, 0, 0, 0, 0]\n",
      "[1, 2, 1, 0, 0, 0, 0, 0, 0, 0, 0]\n",
      "[1, 3, 3, 1, 0, 0, 0, 0, 0, 0, 0]\n",
      "[1, 4, 6, 4, 1, 0, 0, 0, 0, 0, 0]\n",
      "[1, 5, 10, 10, 5, 1, 0, 0, 0, 0, 0]\n",
      "[1, 6, 15, 20, 15, 6, 1, 0, 0, 0, 0]\n",
      "[1, 7, 21, 35, 35, 21, 7, 1, 0, 0, 0]\n",
      "[1, 8, 28, 56, 70, 56, 28, 8, 1, 0, 0]\n",
      "[1, 9, 36, 84, 126, 126, 84, 36, 9, 1, 0]\n",
      "[1, 10, 45, 120, 210, 252, 210, 120, 45, 10, 1]\n"
     ]
    }
   ],
   "source": [
    "tri =[[0]*11 for _ in range(11)]\n",
    "\n",
    "for i in range(0,11):\n",
    "    for j in range(i+1):\n",
    "        if j==0 or j == i:\n",
    "            tri[i][j] = 1\n",
    "        else:\n",
    "            tri[i][j] = tri[i-1][j-1]+tri[i-1][j]\n",
    "print(*tri, sep=\"\\n\")"
   ]
  },
  {
   "cell_type": "code",
   "execution_count": 4,
   "metadata": {},
   "outputs": [
    {
     "name": "stdout",
     "output_type": "stream",
     "text": [
      "3\n",
      "2\n",
      "1\n",
      "Boom!\n"
     ]
    }
   ],
   "source": [
    "def count(n):\n",
    "    if n==0:\n",
    "        print(\"Boom!\")\n",
    "    else:\n",
    "        print(n)\n",
    "        count(n-1)\n",
    "count(3)"
   ]
  }
 ],
 "metadata": {
  "kernelspec": {
   "display_name": "Python 3",
   "language": "python",
   "name": "python3"
  },
  "language_info": {
   "codemirror_mode": {
    "name": "ipython",
    "version": 3
   },
   "file_extension": ".py",
   "mimetype": "text/x-python",
   "name": "python",
   "nbconvert_exporter": "python",
   "pygments_lexer": "ipython3",
   "version": "3.11.0"
  },
  "orig_nbformat": 4,
  "vscode": {
   "interpreter": {
    "hash": "c261aea317cc0286b3b3261fbba9abdec21eaa57589985bb7a274bf54d6cc0a7"
   }
  }
 },
 "nbformat": 4,
 "nbformat_minor": 2
}
